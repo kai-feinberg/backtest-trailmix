{
 "cells": [
  {
   "cell_type": "code",
   "execution_count": 1,
   "metadata": {},
   "outputs": [
    {
     "name": "stdout",
     "output_type": "stream",
     "text": [
      "alongside-crypto-market-index saved to csv\n"
     ]
    }
   ],
   "source": [
    "import datetime\n",
    "import requests\n",
    "import pandas as pd\n",
    "\n",
    "# Get the current date in Unix timestamp in seconds\n",
    "now = datetime.datetime.now().timestamp()\n",
    "\n",
    "# Get the Unix timestamp 1 year ago in seconds\n",
    "year_ago = (datetime.datetime.now() - datetime.timedelta(days=365)).timestamp()\n",
    "\n",
    "# List of coins\n",
    "# coins = [\"optimism\", \"ethereum\", \"bitcoin\", \"chainlink\", \"uniswap\", \"arbitrum\"]\n",
    "coins = [\"alongside-crypto-market-index\"]\n",
    "\n",
    "for coin in coins:\n",
    "    url = f\"https://api.coingecko.com/api/v3/coins/{coin}/market_chart/range?vs_currency=usd&from={year_ago}&to={now}\"\n",
    "    headers = {\n",
    "        \"accept\": \"application/json\",\n",
    "        \"x-cg-demo-api-key\": \"CG-Twq7dgGwXiwYSRSXwkXcV6uD\"\n",
    "    }\n",
    "    response = requests.get(url, headers=headers)\n",
    "\n",
    "    # Check for request success\n",
    "    if response.status_code == 200:\n",
    "        data = response.json()\n",
    "\n",
    "        # Extract prices\n",
    "        prices = data.get('prices', [])\n",
    "\n",
    "        # Create DataFrame\n",
    "        df = pd.DataFrame(prices, columns=[\"timestamp\", \"price\"])\n",
    "\n",
    "        # Convert timestamp from milliseconds to datetime\n",
    "        df['date'] = pd.to_datetime(df['timestamp'], unit='ms')\n",
    "        \n",
    "\n",
    "        # Save DataFrame to CSV\n",
    "        df.to_csv(f\"priceData/{coin}.csv\", index=False)\n",
    "        print(f\"{coin} saved to csv\")\n",
    "\n",
    "        # Print first few rows of the DataFrame\n",
    "        # print(df.head())\n",
    "\n",
    "    else:\n",
    "        print(f\"Failed to fetch data for {coin}. Status code: {response.status_code}\")\n"
   ]
  },
  {
   "cell_type": "code",
   "execution_count": 2,
   "metadata": {},
   "outputs": [
    {
     "name": "stdout",
     "output_type": "stream",
     "text": [
      "1691457623.873735\n"
     ]
    }
   ],
   "source": [
    "# Get the Unix timestamp 1 year ago in seconds\n",
    "year_ago = (datetime.datetime.now() - datetime.timedelta(days=365)).timestamp()\n",
    "print(year_ago)"
   ]
  },
  {
   "cell_type": "markdown",
   "metadata": {},
   "source": []
  }
 ],
 "metadata": {
  "kernelspec": {
   "display_name": "Python 3",
   "language": "python",
   "name": "python3"
  },
  "language_info": {
   "codemirror_mode": {
    "name": "ipython",
    "version": 3
   },
   "file_extension": ".py",
   "mimetype": "text/x-python",
   "name": "python",
   "nbconvert_exporter": "python",
   "pygments_lexer": "ipython3",
   "version": "3.10.1"
  }
 },
 "nbformat": 4,
 "nbformat_minor": 2
}
